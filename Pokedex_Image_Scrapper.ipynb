{
 "cells": [
  {
   "cell_type": "code",
   "execution_count": 1,
   "id": "37e2d39b-a14d-4046-84a0-d1ecdcdd8b49",
   "metadata": {},
   "outputs": [],
   "source": [
    "import os, requests, bs4,csv"
   ]
  },
  {
   "cell_type": "code",
   "execution_count": 6,
   "id": "d5c04238-7cf2-4399-a51d-b4e0047d0462",
   "metadata": {},
   "outputs": [],
   "source": [
    "save_dir = \"ASSETS\\\\Pokemon Image\"\n",
    "os.makedirs(save_dir, exist_ok=True)"
   ]
  },
  {
   "cell_type": "code",
   "execution_count": 7,
   "id": "0960ba77-0fb7-42e3-b3c3-3362d3e3fdad",
   "metadata": {},
   "outputs": [],
   "source": [
    "class pokemon():\n",
    "    def __init__(self, data):\n",
    "        self.data=data\n",
    "        "
   ]
  },
  {
   "cell_type": "code",
   "execution_count": 8,
   "id": "8b4b3903-03be-448f-a15d-f066019b17e4",
   "metadata": {
    "scrolled": true
   },
   "outputs": [],
   "source": [
    "\n",
    "DATA=[]\n",
    "with open(\"ASSETS\\\\Pokemon.csv\") as f:\n",
    "    RAW=list(csv.DictReader(f))\n",
    "for row in RAW:\n",
    "    row= {key: (int(value) if value.isdigit() else value) for key, value in row.items()} \n",
    "    row[\"Legendary\"]=row[\"Legendary\"]==\"TRUE\"\n",
    "    # print(row)\n",
    "    DATA+=[ pokemon(row) ]\n",
    "\n",
    "            \n",
    "# print (RAW)"
   ]
  },
  {
   "cell_type": "code",
   "execution_count": 9,
   "id": "65a77814-bb02-4f82-b0e3-df9210868339",
   "metadata": {},
   "outputs": [],
   "source": [
    "def name_convert(name): # extremely annoying......\n",
    "    if \"Mega\" in name :\n",
    "        name = name[name.find(\" \")+1:]+\"-mega\" \n",
    "    elif \"Size\" in name:\n",
    "        # not the cleanest way\n",
    "        name = name[:name.find(\" \")]\n",
    "        actual_name=name[0]\n",
    "        for c in name[1:]:\n",
    "            if c.isupper():\n",
    "                break\n",
    "            else:\n",
    "                actual_name+=c\n",
    "        name=actual_name\n",
    "    elif \"Forme\" in name or \"Rotom\" in name:\n",
    "        name = name[:name.find(\" \")]\n",
    "        actual_name=name[0]\n",
    "        for c in name[1:]:\n",
    "            if c.isupper():\n",
    "                actual_name+='-'+c.lower()\n",
    "            else:\n",
    "                actual_name+=c\n",
    "        name=actual_name\n",
    "        \n",
    "\n",
    "\n",
    "    # name=name.lower()\n",
    "    return name.lower()"
   ]
  },
  {
   "cell_type": "code",
   "execution_count": 10,
   "id": "09cdef58-b46a-4de6-bbc1-432d267cfec8",
   "metadata": {
    "scrolled": true
   },
   "outputs": [
    {
     "name": "stdout",
     "output_type": "stream",
     "text": [
      "deoxys-defense\n"
     ]
    }
   ],
   "source": [
    "print(name_convert(\"DeoxysDefense Forme\"))"
   ]
  },
  {
   "cell_type": "code",
   "execution_count": 26,
   "id": "3b789b1a-2c0a-407f-b115-91b5bdbb7dda",
   "metadata": {},
   "outputs": [],
   "source": [
    "def download(name):\n",
    "    TROUBLEMAKER={\n",
    "    'CharizardMega Charizard X':'https://img.pokemondb.net/artwork/large/charizard-mega-x.jpg',\n",
    "    'CharizardMega Charizard Y':'https://img.pokemondb.net/artwork/avif/charizard-mega-y.avif',\n",
    "    'Nidoranâ™€':'  ',\n",
    "    'Nidoranâ™‚':'  ',\n",
    "    'Farfetchd':'  ',\n",
    "    'Mr. Mime':'  ',\n",
    "    'MewtwoMega Mewtwo X':'  ',\n",
    "    'MewtwoMega Mewtwo Y':'  ',\n",
    "    'Meganium':'  ',\n",
    "    'KyogrePrimal Kyogre':'  ',\n",
    "    'GroudonPrimal Groudon':'  ',\n",
    "    'WormadamPlant Cloak':'  ',\n",
    "    'WormadamSandy Cloak':'  ',\n",
    "    'WormadamTrash Cloak':'  ',\n",
    "    'Mime Jr.':'  ',\n",
    "    'DarmanitanStandard Mode':'  ',\n",
    "    'DarmanitanZen Mode':'  ',\n",
    "    'KyuremBlack Kyurem':'  ',\n",
    "    'KyuremWhite Kyurem':'  ',\n",
    "    'FlabÃ©bÃ©':'  ',\n",
    "    'MeowsticMale':'  ',\n",
    "    'MeowsticFemale':'  ',\n",
    "    'Zygarde50% Forme':'  ',\n",
    "    'HoopaHoopa Confined':'  ',\n",
    "    'HoopaHoopa Unbound':'  ',\n",
    "    }\n",
    "    if name in TROUBLEMAKER: \n",
    "        return TROUBLEMAKER[name]\n",
    "    response = requests.get(f\"https://img.pokemondb.net/artwork/vector/{name_convert(name)}.png\", stream=True)\n",
    "    \n",
    "    if response.status_code == 200:\n",
    "        \n",
    "        with open(os.path.join(save_dir,name+\".png\"), 'wb') as file:\n",
    "            for chunk in response.iter_content(1024):\n",
    "                file.write(chunk)\n",
    "                \n",
    "        # print(f\"Image successfully downloaded and saved as {save_path}\")\n",
    "    else:\n",
    "        print(f\"Failed to download{name}\")"
   ]
  },
  {
   "cell_type": "code",
   "execution_count": 19,
   "id": "ff9b7d80-62ca-437b-bf80-d48a844908c4",
   "metadata": {},
   "outputs": [
    {
     "name": "stdout",
     "output_type": "stream",
     "text": [
      "{\n",
      "'CharizardMega Charizard X':'  ',\n",
      "'CharizardMega Charizard Y':'  ',\n",
      "'Nidoranâ™€':'  ',\n",
      "'Nidoranâ™‚':'  ',\n",
      "'Farfetch'd':'  ',\n",
      "'Mr. Mime':'  ',\n",
      "'MewtwoMega Mewtwo X':'  ',\n",
      "'MewtwoMega Mewtwo Y':'  ',\n",
      "'Meganium':'  ',\n",
      "'KyogrePrimal Kyogre':'  ',\n",
      "'GroudonPrimal Groudon':'  ',\n",
      "'WormadamPlant Cloak':'  ',\n",
      "'WormadamSandy Cloak':'  ',\n",
      "'WormadamTrash Cloak':'  ',\n",
      "'Mime Jr.':'  ',\n",
      "'DarmanitanStandard Mode':'  ',\n",
      "'DarmanitanZen Mode':'  ',\n",
      "'KyuremBlack Kyurem':'  ',\n",
      "'KyuremWhite Kyurem':'  ',\n",
      "'FlabÃ©bÃ©':'  ',\n",
      "'MeowsticMale':'  ',\n",
      "'MeowsticFemale':'  ',\n",
      "'Zygarde50% Forme':'  ',\n",
      "'HoopaHoopa Confined':'  ',\n",
      "'HoopaHoopa Unbound':'  ',\n",
      "}\n"
     ]
    }
   ],
   "source": [
    "print(\"{\")\n",
    "for poke in DATA:\n",
    "    # print(os.path.join(save_dir,poke.data[\"Name\"]+\".png\"))\n",
    "    if(not os.path.exists(os.path.join(save_dir,poke.data[\"Name\"]+\".png\"))):\n",
    "        download(poke.data[\"Name\"])\n",
    "    else:\n",
    "        pass\n",
    "        # print(poke.data[\"Name\"], \"already downloaded\")\n",
    "print(\"}\")\n",
    "    "
   ]
  },
  {
   "cell_type": "code",
   "execution_count": null,
   "id": "bc3d9c82-116f-4d06-920d-b2188a3c1d7a",
   "metadata": {},
   "outputs": [],
   "source": []
  }
 ],
 "metadata": {
  "kernelspec": {
   "display_name": "Python 3 (ipykernel)",
   "language": "python",
   "name": "python3"
  },
  "language_info": {
   "codemirror_mode": {
    "name": "ipython",
    "version": 3
   },
   "file_extension": ".py",
   "mimetype": "text/x-python",
   "name": "python",
   "nbconvert_exporter": "python",
   "pygments_lexer": "ipython3",
   "version": "3.10.6"
  }
 },
 "nbformat": 4,
 "nbformat_minor": 5
}
